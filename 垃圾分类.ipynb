{
  "nbformat": 4,
  "nbformat_minor": 0,
  "metadata": {
    "colab": {
      "name": "垃圾分类.ipynb",
      "provenance": [],
      "authorship_tag": "ABX9TyOiZa6KnY3e+t0MiR+RaTFl",
      "include_colab_link": true
    },
    "kernelspec": {
      "name": "python3",
      "display_name": "Python 3"
    },
    "language_info": {
      "name": "python"
    }
  },
  "cells": [
    {
      "cell_type": "markdown",
      "metadata": {
        "id": "view-in-github",
        "colab_type": "text"
      },
      "source": [
        "<a href=\"https://colab.research.google.com/github/gpvi/bigdata_analyse/blob/main/%E5%9E%83%E5%9C%BE%E5%88%86%E7%B1%BB.ipynb\" target=\"_parent\"><img src=\"https://colab.research.google.com/assets/colab-badge.svg\" alt=\"Open In Colab\"/></a>"
      ]
    },
    {
      "cell_type": "code",
      "source": [
        "! ls /content"
      ],
      "metadata": {
        "id": "vLngKmd4RYot",
        "colab": {
          "base_uri": "https://localhost:8080/"
        },
        "outputId": "ae454bca-e7f5-4370-dce4-dd0aa20ab13a"
      },
      "execution_count": 1,
      "outputs": [
        {
          "output_type": "stream",
          "name": "stdout",
          "text": [
            "sample_data    厨余垃圾1.zip\t可回收垃圾2.zip  可回收垃圾5.zip\n",
            "其他垃圾1.zip  厨余垃圾2.zip\t可回收垃圾3.zip  可回收垃圾6.zip\n",
            "其他垃圾2.zip  可回收垃圾1.zip\t可回收垃圾4.zip  有害垃圾.zip\n"
          ]
        }
      ]
    },
    {
      "cell_type": "code",
      "execution_count": 10,
      "metadata": {
        "id": "_0jeeuru4A_B"
      },
      "outputs": [],
      "source": [
        "\n",
        "! cd garbagelist "
      ]
    },
    {
      "cell_type": "code",
      "source": [
        "! ls\n",
        "! jar -xvf 其他垃圾1.zip"
      ],
      "metadata": {
        "id": "Blo3NuDUI6-3",
        "outputId": "beb7552a-bf67-474f-d107-82a9247d16a0",
        "colab": {
          "base_uri": "https://localhost:8080/"
        }
      },
      "execution_count": 18,
      "outputs": [
        {
          "output_type": "stream",
          "name": "stdout",
          "text": [
            "garbagelist    其他垃圾2.zip  可回收垃圾1.zip  可回收垃圾4.zip\t有害垃圾.zip\n",
            "sample_data    厨余垃圾1.zip  可回收垃圾2.zip  可回收垃圾5.zip\n",
            "其他垃圾1.zip  厨余垃圾2.zip  可回收垃圾3.zip  可回收垃圾6.zip\n",
            "java.lang.IllegalArgumentException: malformed input off : 1, length : 1\n",
            "\tat java.base/java.lang.StringCoding.throwMalformed(StringCoding.java:698)\n",
            "\tat java.base/java.lang.StringCoding.decodeUTF8_0(StringCoding.java:781)\n",
            "\tat java.base/java.lang.StringCoding.newStringUTF8NoRepl(StringCoding.java:981)\n",
            "\tat java.base/java.lang.System$2.newStringUTF8NoRepl(System.java:2205)\n",
            "\tat java.base/java.util.zip.ZipCoder$UTF8.toString(ZipCoder.java:60)\n",
            "\tat java.base/java.util.zip.ZipCoder.toString(ZipCoder.java:87)\n",
            "\tat java.base/java.util.zip.ZipInputStream.readLOC(ZipInputStream.java:303)\n",
            "\tat java.base/java.util.zip.ZipInputStream.getNextEntry(ZipInputStream.java:125)\n",
            "\tat jdk.jartool/sun.tools.jar.Main.extract(Main.java:1360)\n",
            "\tat jdk.jartool/sun.tools.jar.Main.run(Main.java:409)\n",
            "\tat jdk.jartool/sun.tools.jar.Main.main(Main.java:1680)\n",
            "Caused by: java.nio.charset.MalformedInputException: Input length = 1\n",
            "\t... 11 more\n"
          ]
        }
      ]
    }
  ]
}